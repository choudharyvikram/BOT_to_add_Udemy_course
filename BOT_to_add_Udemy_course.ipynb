{
 "cells": [
  {
   "cell_type": "code",
   "execution_count": null,
   "metadata": {},
   "outputs": [],
   "source": [
    "msg = '''\n",
    "\n",
    "    Data Science using Pandas (from basics): https://bit.ly/2F42rQQ\n",
    "Statistics for Data Science using Python: https://bit.ly/33sAY4z\n",
    "Python And Flask Demonstration Course: https://bit.ly/34m7a94\n",
    "Practical SQL Masterclass – Learn MySQL – Beginner to Guru: https://bit.ly/3nduv5n\n",
    "Introduction to Algorithms and Data structures in C++: https://bit.ly/2HVCSm0\n",
    "WordPress Development in 1 hr in Hindi : https://bit.ly/3ngywpS\n",
    "Master HTML:5 from very beginner to Pro: https://bit.ly/3jpfU4u\n",
    "Data Analytics with Excel PivotTables: https://bit.ly/30wCOjc\n",
    "Learn Computer Networking with respect to Ethical Hacking: https://bit.ly/2HRPFFX\n",
    "Introduction To Azure Data Factory Certification Course: https://bit.ly/3leQl6W\n",
    "Python for beginners – Learn all the basics of python: https://bit.ly/2HNcf2q\n",
    "Blockchain and Bitcoin Simplified 2020: https://bit.ly/2HYU7mB\n",
    "EasyPy3 – Python for Beginners | Highest Rated: https://bit.ly/3l4lmKC\n",
    "\n",
    "'''"
   ]
  },
  {
   "cell_type": "code",
   "execution_count": null,
   "metadata": {},
   "outputs": [],
   "source": [
    "def process_links(driver, links, i):\n",
    "    new_links = []\n",
    "    for link in links:\n",
    "            try:\n",
    "                driver.get(link)\n",
    "                click_here_element = driver.find_elements_by_xpath(patterns[i])\n",
    "                click_here_element[0].click()\n",
    "            except InvalidArgumentException as e:\n",
    "                f.write(f'LOG_{e} {link} \\n\\n')\n",
    "            except Exception as e:\n",
    "                new_links.append(link)\n",
    "                print(i, e, link)\n",
    "    return new_links"
   ]
  },
  {
   "cell_type": "code",
   "execution_count": null,
   "metadata": {},
   "outputs": [],
   "source": [
    "splitted = msg.split('\\n')\n",
    "links = []\n",
    "for sent in splitted:\n",
    "    sent = sent.strip()\n",
    "    if sent:\n",
    "        link = sent.split('https://')[-1]\n",
    "        links.append(f'https://{link}')"
   ]
  },
  {
   "cell_type": "code",
   "execution_count": null,
   "metadata": {},
   "outputs": [],
   "source": [
    "patterns = [\n",
    "    \"//*[@id='pryc-wp-acctp-original-content']/ol/li[2]/span/strong/a\",\n",
    "    \"//*[@id='pryc-wp-acctp-original-content']/div[3]/div/div/div/div/div/div/ol/li[2]/span/strong/a\",\n",
    "    \"//*[@id='pryc-wp-acctp-original-content']/div[6]/div/ol/li[2]/span/strong/a\",\n",
    "    \"//*[@id='pryc-wp-acctp-original-content']/div[4]/div/div/div/ol/li[2]/span/strong/a\",\n",
    "    \"//*[@id='pryc-wp-acctp-original-content']/div[4]/div/div/ol/li[2]/span/strong/a\",\n",
    "    \"/html/body/div[2]/div[4]/div[1]/div[1]/div/div/div/div[5]/div[1]/div/div[4]/div[2]/p[2]/span/strong/a\",\n",
    "    \"/html/body/div[6]/div[2]/div/div[2]/div[1]/div/article/div[3]/div[2]/div[6]/div/ol/li[2]/span/strong/a\",\n",
    "    \n",
    "    \"//*[@id='pryc-wp-acctp-original-content']/div[5]/ol/li[2]/span/strong/a\",\n",
    "    \"//*[@id='pryc-wp-acctp-original-content']/div[4]/ol/li[2]/span/strong/a\",\n",
    "    \"//*[@id='pryc-wp-acctp-original-content']/div[5]/div/ol/li[2]/span/strong/a\",\n",
    "    \"//*[@id='pryc-wp-acctp-original-content']/div[3]/ol/li[2]/span/strong/a\",\n",
    "    \"//*[@id='pryc-wp-acctp-original-content']/div[5]/div[2]/div/ol/li[2]/span/strong/a\",\n",
    "]"
   ]
  },
  {
   "cell_type": "code",
   "execution_count": null,
   "metadata": {
    "scrolled": true
   },
   "outputs": [],
   "source": [
    "from selenium import webdriver\n",
    "from selenium.common.exceptions import InvalidArgumentException\n",
    "import datetime\n",
    "import time\n",
    "# path to chromedriver.exe \n",
    "path = r'I:\\1setups\\chromeDriver\\chromedriver.exe'\n",
    "\n",
    "# create nstance of webdriver\n",
    "driver = webdriver.Chrome(path)\n",
    "login_to_Udemy(driver, '', 'udemyforpublic@1234')\n",
    "\n",
    "date = str(datetime.datetime.now())[:10]\n",
    "with open(f'{date}.txt', 'w'):\n",
    "    i = 0\n",
    "    while i < len(patterns):\n",
    "            links = process_links(driver, links, i)\n",
    "            i += 1\n",
    "            \n",
    "\n",
    "print(links)"
   ]
  },
  {
   "cell_type": "code",
   "execution_count": null,
   "metadata": {},
   "outputs": [],
   "source": [
    "def login_to_Udemy(driver, login, password):\n",
    "    driver.get('https://www.udemy.com/join/login-popup/?locale=en_US&response_type=html&next=https%3A%2F%2Fwww.udemy.com%2F')\n",
    "    time.sleep(5)\n",
    "    email_input = driver.find_element_by_name('email')\n",
    "    email_input.send_keys(login)\n",
    "    password_input = driver.find_element_by_name('password')\n",
    "    password_input.send_keys(password)\n",
    "    password_input.send_keys('\\n')  \n",
    "    time.sleep(5)\n",
    "\n",
    "    \n",
    "def add_to_cart(driver):\n",
    "    add_to_cart_xpath = \"//*[@id='udemy']/div[2]/div[3]/div[1]/div[3]/div/div/div/div[1]/div/div[1]/div[2]/div/div[1]/div/div[4]/div/button\"\n",
    "    add_to_cart_xpath_element = driver.find_element_by_xpath(add_to_cart_xpath)\n",
    "    add_to_cart_xpath_element[0].click()\n",
    "    \n",
    "    \n",
    "def checkout(driver):\n",
    "    cart_icon_id = \"u657-popover-trigger--14\"\n",
    "    cart_icon_element = driver.find_element_by_id(cart_icon_id)\n",
    "    cart_icon_element[0].click()\n"
   ]
  }
 ],
 "metadata": {
  "kernelspec": {
   "display_name": "Python 3",
   "language": "python",
   "name": "python3"
  },
  "language_info": {
   "codemirror_mode": {
    "name": "ipython",
    "version": 3
   },
   "file_extension": ".py",
   "mimetype": "text/x-python",
   "name": "python",
   "nbconvert_exporter": "python",
   "pygments_lexer": "ipython3",
   "version": "3.7.6"
  }
 },
 "nbformat": 4,
 "nbformat_minor": 4
}
