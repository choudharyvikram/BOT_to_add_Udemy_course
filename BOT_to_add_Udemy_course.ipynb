{
 "cells": [
  {
   "cell_type": "code",
   "execution_count": 31,
   "metadata": {},
   "outputs": [],
   "source": [
    "msg = '''\n",
    "\n",
    "Automate the Boring Stuff with Python Programming: https://bit.ly/3jqnJHk\n",
    "Network Ethical Hacking for Beginners (Kali 2020, Hands-on): https://bit.ly/33jlpfA\n",
    "Create Awesome WatchOS Apps Using SwiftUI: https://bit.ly/30r25uY\n",
    "Python Bootcamp 2020 Build 15 working Applications and Games: https://bit.ly/3nevH8O\n",
    "Milestones in Python 3.8 with exciting new features: https://bit.ly/33kQqj1\n",
    "Fundamentals of Data Analysis Expression DAX: https://bit.ly/2Gh6z0c\n",
    "Data Visualization in Python with Covid-19 Analysis Project: https://bit.ly/3jnLJul\n",
    "Complete Google Certified Educator Level 1 Masterclass: https://bit.ly/36p8lHm\n",
    "Microsoft Power BI: Latest 2020 Beginner to Expert Modules: https://bit.ly/3l7QEAo\n",
    "Get Started With NodeJS : For Beginners 2020: https://bit.ly/3jpxF3N\n",
    "Python And Flask Framework Complete Course For Beginners: https://bit.ly/3ijPPlX\n",
    "Free Cybersecurity Essentials Certification Course: https://bit.ly/3iwISOR\n",
    "Whatsapp stock market bot with Python, Twilio & MarketStack: https://bit.ly/3l58ync\n",
    "\n",
    "\n",
    "    '''"
   ]
  },
  {
   "cell_type": "code",
   "execution_count": 51,
   "metadata": {},
   "outputs": [],
   "source": [
    "def process_links(links, i):\n",
    "    new_links = []\n",
    "    for link in links:\n",
    "            try:\n",
    "                driver.get(link)\n",
    "                click_here_element = driver.find_elements_by_xpath(patterns[i])\n",
    "                click_here_element[0].click()\n",
    "            except InvalidArgumentException as e:\n",
    "                f.write(f'LOG_{e} {link} \\n\\n')\n",
    "#             except Exception as e:\n",
    "#                 new_links.append(link)\n",
    "#                 print(i, e, link)\n",
    "    return new_links"
   ]
  },
  {
   "cell_type": "code",
   "execution_count": 52,
   "metadata": {},
   "outputs": [],
   "source": [
    "splitted = msg.split('\\n')\n",
    "links = []\n",
    "for sent in splitted:\n",
    "    sent = sent.strip()\n",
    "    if sent:\n",
    "        link = sent.split('https://')[-1]\n",
    "        links.append(f'https://{link}')"
   ]
  },
  {
   "cell_type": "code",
   "execution_count": 53,
   "metadata": {},
   "outputs": [],
   "source": [
    "patterns = [\n",
    "    \"//*[@id='pryc-wp-acctp-original-content']/ol/li[2]/span/strong/a\",\n",
    "    \"//*[@id='pryc-wp-acctp-original-content']/div[3]/div/div/div/div/div/div/ol/li[2]/span/strong/a\",\n",
    "    \"/html/body/div[6]/div[2]/div/div[2]/div[1]/div/article/div[3]/div[2]/div[6]/div/ol/li[2]/span/strong/a\",\n",
    "    \"//*[@id='pryc-wp-acctp-original-content']/div[6]/div/ol/li[2]/span/strong/a\",\n",
    "    \"//*[@id='pryc-wp-acctp-original-content']/div[4]/div/div/ol/li[2]/span/strong/a\",\n",
    "    \"/html/body/div[2]/div[4]/div[1]/div[1]/div/div/div/div[5]/div[1]/div/div[4]/div[2]/p[2]/span/strong/a\",\n",
    "    \"//*[@id='pryc-wp-acctp-original-content']/div[4]/div/div/div/ol/li[2]/span/strong/a\",\n",
    "]"
   ]
  },
  {
   "cell_type": "code",
   "execution_count": 54,
   "metadata": {
    "scrolled": true
   },
   "outputs": [
    {
     "ename": "IndexError",
     "evalue": "list index out of range",
     "output_type": "error",
     "traceback": [
      "\u001b[1;31m---------------------------------------------------------------------------\u001b[0m",
      "\u001b[1;31mIndexError\u001b[0m                                Traceback (most recent call last)",
      "\u001b[1;32m<ipython-input-54-32e2561d3716>\u001b[0m in \u001b[0;36m<module>\u001b[1;34m\u001b[0m\n\u001b[0;32m     12\u001b[0m     \u001b[0mi\u001b[0m \u001b[1;33m=\u001b[0m \u001b[1;36m0\u001b[0m\u001b[1;33m\u001b[0m\u001b[1;33m\u001b[0m\u001b[0m\n\u001b[0;32m     13\u001b[0m     \u001b[1;32mwhile\u001b[0m \u001b[0mi\u001b[0m \u001b[1;33m<\u001b[0m \u001b[0mlen\u001b[0m\u001b[1;33m(\u001b[0m\u001b[0mpatterns\u001b[0m\u001b[1;33m)\u001b[0m\u001b[1;33m:\u001b[0m\u001b[1;33m\u001b[0m\u001b[1;33m\u001b[0m\u001b[0m\n\u001b[1;32m---> 14\u001b[1;33m             \u001b[0mlinks\u001b[0m \u001b[1;33m=\u001b[0m \u001b[0mprocess_links\u001b[0m\u001b[1;33m(\u001b[0m\u001b[0mlinks\u001b[0m\u001b[1;33m,\u001b[0m \u001b[0mi\u001b[0m\u001b[1;33m)\u001b[0m\u001b[1;33m\u001b[0m\u001b[1;33m\u001b[0m\u001b[0m\n\u001b[0m\u001b[0;32m     15\u001b[0m             \u001b[0mi\u001b[0m \u001b[1;33m+=\u001b[0m \u001b[1;36m1\u001b[0m\u001b[1;33m\u001b[0m\u001b[1;33m\u001b[0m\u001b[0m\n\u001b[0;32m     16\u001b[0m \u001b[1;33m\u001b[0m\u001b[0m\n",
      "\u001b[1;32m<ipython-input-51-1f0be175da44>\u001b[0m in \u001b[0;36mprocess_links\u001b[1;34m(links, i)\u001b[0m\n\u001b[0;32m      5\u001b[0m                 \u001b[0mdriver\u001b[0m\u001b[1;33m.\u001b[0m\u001b[0mget\u001b[0m\u001b[1;33m(\u001b[0m\u001b[0mlink\u001b[0m\u001b[1;33m)\u001b[0m\u001b[1;33m\u001b[0m\u001b[1;33m\u001b[0m\u001b[0m\n\u001b[0;32m      6\u001b[0m                 \u001b[0mclick_here_element\u001b[0m \u001b[1;33m=\u001b[0m \u001b[0mdriver\u001b[0m\u001b[1;33m.\u001b[0m\u001b[0mfind_elements_by_xpath\u001b[0m\u001b[1;33m(\u001b[0m\u001b[0mpatterns\u001b[0m\u001b[1;33m[\u001b[0m\u001b[0mi\u001b[0m\u001b[1;33m]\u001b[0m\u001b[1;33m)\u001b[0m\u001b[1;33m\u001b[0m\u001b[1;33m\u001b[0m\u001b[0m\n\u001b[1;32m----> 7\u001b[1;33m                 \u001b[0mclick_here_element\u001b[0m\u001b[1;33m[\u001b[0m\u001b[1;36m0\u001b[0m\u001b[1;33m]\u001b[0m\u001b[1;33m.\u001b[0m\u001b[0mclick\u001b[0m\u001b[1;33m(\u001b[0m\u001b[1;33m)\u001b[0m\u001b[1;33m\u001b[0m\u001b[1;33m\u001b[0m\u001b[0m\n\u001b[0m\u001b[0;32m      8\u001b[0m             \u001b[1;32mexcept\u001b[0m \u001b[0mInvalidArgumentException\u001b[0m \u001b[1;32mas\u001b[0m \u001b[0me\u001b[0m\u001b[1;33m:\u001b[0m\u001b[1;33m\u001b[0m\u001b[1;33m\u001b[0m\u001b[0m\n\u001b[0;32m      9\u001b[0m                 \u001b[0mf\u001b[0m\u001b[1;33m.\u001b[0m\u001b[0mwrite\u001b[0m\u001b[1;33m(\u001b[0m\u001b[1;34mf'LOG_{e} {link} \\n\\n'\u001b[0m\u001b[1;33m)\u001b[0m\u001b[1;33m\u001b[0m\u001b[1;33m\u001b[0m\u001b[0m\n",
      "\u001b[1;31mIndexError\u001b[0m: list index out of range"
     ]
    }
   ],
   "source": [
    "from selenium import webdriver\n",
    "from selenium.common.exceptions import InvalidArgumentException\n",
    "import datetime\n",
    "# path to chromedriver.exe \n",
    "path = r'I:\\1setups\\chromeDriver\\chromedriver.exe'\n",
    "\n",
    "# create nstance of webdriver\n",
    "driver = webdriver.Chrome(path)\n",
    "\n",
    "date = str(datetime.datetime.now())[:10]\n",
    "with open(f'{date}.txt', 'w'):\n",
    "    i = 0\n",
    "    while i < len(patterns):\n",
    "            links = process_links(links, i)\n",
    "            i += 1\n",
    "            \n",
    "print(links)"
   ]
  },
  {
   "cell_type": "code",
   "execution_count": 29,
   "metadata": {},
   "outputs": [],
   "source": []
  },
  {
   "cell_type": "code",
   "execution_count": null,
   "metadata": {},
   "outputs": [],
   "source": []
  }
 ],
 "metadata": {
  "kernelspec": {
   "display_name": "Python 3",
   "language": "python",
   "name": "python3"
  },
  "language_info": {
   "codemirror_mode": {
    "name": "ipython",
    "version": 3
   },
   "file_extension": ".py",
   "mimetype": "text/x-python",
   "name": "python",
   "nbconvert_exporter": "python",
   "pygments_lexer": "ipython3",
   "version": "3.7.6"
  }
 },
 "nbformat": 4,
 "nbformat_minor": 4
}
